{
  "nbformat": 4,
  "nbformat_minor": 0,
  "metadata": {
    "colab": {
      "provenance": [],
      "authorship_tag": "ABX9TyPBEORTwW9qvMwJ2GXcq7N7",
      "include_colab_link": true
    },
    "kernelspec": {
      "name": "python3",
      "display_name": "Python 3"
    },
    "language_info": {
      "name": "python"
    }
  },
  "cells": [
    {
      "cell_type": "markdown",
      "metadata": {
        "id": "view-in-github",
        "colab_type": "text"
      },
      "source": [
        "<a href=\"https://colab.research.google.com/github/GiovanniCarbinatti/IBGE_Webscrapping/blob/main/ibge_scrapping.ipynb\" target=\"_parent\"><img src=\"https://colab.research.google.com/assets/colab-badge.svg\" alt=\"Open In Colab\"/></a>"
      ]
    },
    {
      "cell_type": "code",
      "execution_count": null,
      "metadata": {
        "colab": {
          "base_uri": "https://localhost:8080/"
        },
        "id": "atLuEhdq1cUr",
        "outputId": "c2b3c427-b400-4322-e259-d246b93e020d"
      },
      "outputs": [
        {
          "output_type": "stream",
          "name": "stdout",
          "text": [
            "Looking in indexes: https://pypi.org/simple, https://us-python.pkg.dev/colab-wheels/public/simple/\n",
            "Collecting selenium\n",
            "  Downloading selenium-4.5.0-py3-none-any.whl (995 kB)\n",
            "\u001b[K     |████████████████████████████████| 995 kB 7.4 MB/s \n",
            "\u001b[?25hCollecting trio-websocket~=0.9\n",
            "  Downloading trio_websocket-0.9.2-py3-none-any.whl (16 kB)\n",
            "Collecting urllib3[socks]~=1.26\n",
            "  Downloading urllib3-1.26.12-py2.py3-none-any.whl (140 kB)\n",
            "\u001b[K     |████████████████████████████████| 140 kB 45.0 MB/s \n",
            "\u001b[?25hRequirement already satisfied: certifi>=2021.10.8 in /usr/local/lib/python3.7/dist-packages (from selenium) (2022.9.24)\n",
            "Collecting trio~=0.17\n",
            "  Downloading trio-0.22.0-py3-none-any.whl (384 kB)\n",
            "\u001b[K     |████████████████████████████████| 384 kB 47.8 MB/s \n",
            "\u001b[?25hCollecting exceptiongroup>=1.0.0rc9\n",
            "  Downloading exceptiongroup-1.0.0rc9-py3-none-any.whl (12 kB)\n",
            "Collecting sniffio\n",
            "  Downloading sniffio-1.3.0-py3-none-any.whl (10 kB)\n",
            "Requirement already satisfied: sortedcontainers in /usr/local/lib/python3.7/dist-packages (from trio~=0.17->selenium) (2.4.0)\n",
            "Requirement already satisfied: attrs>=19.2.0 in /usr/local/lib/python3.7/dist-packages (from trio~=0.17->selenium) (22.1.0)\n",
            "Requirement already satisfied: idna in /usr/local/lib/python3.7/dist-packages (from trio~=0.17->selenium) (2.10)\n",
            "Collecting async-generator>=1.9\n",
            "  Downloading async_generator-1.10-py3-none-any.whl (18 kB)\n",
            "Collecting outcome\n",
            "  Downloading outcome-1.2.0-py2.py3-none-any.whl (9.7 kB)\n",
            "Collecting wsproto>=0.14\n",
            "  Downloading wsproto-1.2.0-py3-none-any.whl (24 kB)\n",
            "Requirement already satisfied: PySocks!=1.5.7,<2.0,>=1.5.6 in /usr/local/lib/python3.7/dist-packages (from urllib3[socks]~=1.26->selenium) (1.7.1)\n",
            "Collecting h11<1,>=0.9.0\n",
            "  Downloading h11-0.14.0-py3-none-any.whl (58 kB)\n",
            "\u001b[K     |████████████████████████████████| 58 kB 5.3 MB/s \n",
            "\u001b[?25hRequirement already satisfied: typing-extensions in /usr/local/lib/python3.7/dist-packages (from h11<1,>=0.9.0->wsproto>=0.14->trio-websocket~=0.9->selenium) (4.1.1)\n",
            "Installing collected packages: sniffio, outcome, h11, exceptiongroup, async-generator, wsproto, urllib3, trio, trio-websocket, selenium\n",
            "  Attempting uninstall: urllib3\n",
            "    Found existing installation: urllib3 1.24.3\n",
            "    Uninstalling urllib3-1.24.3:\n",
            "      Successfully uninstalled urllib3-1.24.3\n",
            "\u001b[31mERROR: pip's dependency resolver does not currently take into account all the packages that are installed. This behaviour is the source of the following dependency conflicts.\n",
            "requests 2.23.0 requires urllib3!=1.25.0,!=1.25.1,<1.26,>=1.21.1, but you have urllib3 1.26.12 which is incompatible.\u001b[0m\n",
            "Successfully installed async-generator-1.10 exceptiongroup-1.0.0rc9 h11-0.14.0 outcome-1.2.0 selenium-4.5.0 sniffio-1.3.0 trio-0.22.0 trio-websocket-0.9.2 urllib3-1.26.12 wsproto-1.2.0\n",
            "Mounted at gdrive\n"
          ]
        }
      ],
      "source": [
        "! pip install selenium\n",
        "import pandas as pd\n",
        "import numpy as np\n",
        "from selenium import webdriver\n",
        "from time import sleep\n",
        "from selenium.webdriver.common.by import By\n",
        "from google.colab import drive\n",
        "drive.mount('gdrive')"
      ]
    },
    {
      "cell_type": "code",
      "source": [
        "!apt-get update # to update ubuntu to correctly run apt install\n",
        "!apt install chromium-chromedriver\n",
        "!cp /usr/lib/chromium-browser/chromedriver /usr/bin\n",
        "import sys\n",
        "sys.path.insert(0,'/usr/lib/chromium-browser/chromedriver')\n",
        "from selenium import webdriver\n",
        "chrome_options = webdriver.ChromeOptions()\n",
        "chrome_options.add_argument('--headless')\n",
        "chrome_options.add_argument('--no-sandbox')\n",
        "chrome_options.add_argument('--disable-dev-shm-usage')\n",
        "wd = webdriver.Chrome('chromedriver',options=chrome_options)"
      ],
      "metadata": {
        "colab": {
          "base_uri": "https://localhost:8080/"
        },
        "id": "kuo8smjY1iCp",
        "outputId": "6fafbc49-c10d-426d-9957-e992f7d8f4f8"
      },
      "execution_count": null,
      "outputs": [
        {
          "output_type": "stream",
          "name": "stdout",
          "text": [
            "\r0% [Working]\r            \rGet:1 https://cloud.r-project.org/bin/linux/ubuntu bionic-cran40/ InRelease [3,626 B]\n",
            "\r0% [Connecting to archive.ubuntu.com] [Waiting for headers] [1 InRelease 0 B/3,\r0% [Connecting to archive.ubuntu.com] [Waiting for headers] [Waiting for header\r                                                                               \rIgn:2 https://developer.download.nvidia.com/compute/machine-learning/repos/ubuntu1804/x86_64  InRelease\n",
            "\r0% [Connecting to archive.ubuntu.com] [Waiting for headers] [Waiting for header\r0% [1 InRelease gpgv 3,626 B] [Connecting to archive.ubuntu.com] [Waiting for h\r                                                                               \rGet:3 https://developer.download.nvidia.com/compute/cuda/repos/ubuntu1804/x86_64  InRelease [1,581 B]\n",
            "\r0% [1 InRelease gpgv 3,626 B] [Connecting to archive.ubuntu.com] [Waiting for h\r0% [1 InRelease gpgv 3,626 B] [Connecting to archive.ubuntu.com] [Waiting for h\r                                                                               \rHit:4 https://developer.download.nvidia.com/compute/machine-learning/repos/ubuntu1804/x86_64  Release\n",
            "Get:5 http://security.ubuntu.com/ubuntu bionic-security InRelease [88.7 kB]\n",
            "Get:6 http://ppa.launchpad.net/c2d4u.team/c2d4u4.0+/ubuntu bionic InRelease [15.9 kB]\n",
            "Hit:7 http://archive.ubuntu.com/ubuntu bionic InRelease\n",
            "Get:8 http://archive.ubuntu.com/ubuntu bionic-updates InRelease [88.7 kB]\n",
            "Get:9 https://developer.download.nvidia.com/compute/cuda/repos/ubuntu1804/x86_64  Packages [985 kB]\n",
            "Hit:10 http://ppa.launchpad.net/cran/libgit2/ubuntu bionic InRelease\n",
            "Get:11 http://archive.ubuntu.com/ubuntu bionic-backports InRelease [83.3 kB]\n",
            "Hit:12 http://ppa.launchpad.net/deadsnakes/ppa/ubuntu bionic InRelease\n",
            "Hit:14 http://ppa.launchpad.net/graphics-drivers/ppa/ubuntu bionic InRelease\n",
            "Get:15 http://security.ubuntu.com/ubuntu bionic-security/main amd64 Packages [3,035 kB]\n",
            "Get:16 http://security.ubuntu.com/ubuntu bionic-security/universe amd64 Packages [1,554 kB]\n",
            "Get:17 http://ppa.launchpad.net/c2d4u.team/c2d4u4.0+/ubuntu bionic/main Sources [2,165 kB]\n",
            "Get:18 http://archive.ubuntu.com/ubuntu bionic-updates/universe amd64 Packages [2,332 kB]\n",
            "Get:19 http://ppa.launchpad.net/c2d4u.team/c2d4u4.0+/ubuntu bionic/main amd64 Packages [1,109 kB]\n",
            "Get:20 http://archive.ubuntu.com/ubuntu bionic-updates/main amd64 Packages [3,467 kB]\n",
            "Fetched 14.9 MB in 6s (2,532 kB/s)\n",
            "Reading package lists... Done\n",
            "Reading package lists... Done\n",
            "Building dependency tree       \n",
            "Reading state information... Done\n",
            "The following package was automatically installed and is no longer required:\n",
            "  libnvidia-common-460\n",
            "Use 'apt autoremove' to remove it.\n",
            "The following additional packages will be installed:\n",
            "  chromium-browser chromium-browser-l10n chromium-codecs-ffmpeg-extra\n",
            "Suggested packages:\n",
            "  webaccounts-chromium-extension unity-chromium-extension\n",
            "The following NEW packages will be installed:\n",
            "  chromium-browser chromium-browser-l10n chromium-chromedriver\n",
            "  chromium-codecs-ffmpeg-extra\n",
            "0 upgraded, 4 newly installed, 0 to remove and 28 not upgraded.\n",
            "Need to get 91.7 MB of archives.\n",
            "After this operation, 309 MB of additional disk space will be used.\n",
            "Get:1 http://archive.ubuntu.com/ubuntu bionic-updates/universe amd64 chromium-codecs-ffmpeg-extra amd64 105.0.5195.102-0ubuntu0.18.04.1 [1,156 kB]\n",
            "Get:2 http://archive.ubuntu.com/ubuntu bionic-updates/universe amd64 chromium-browser amd64 105.0.5195.102-0ubuntu0.18.04.1 [80.1 MB]\n",
            "Get:3 http://archive.ubuntu.com/ubuntu bionic-updates/universe amd64 chromium-browser-l10n all 105.0.5195.102-0ubuntu0.18.04.1 [5,097 kB]\n",
            "Get:4 http://archive.ubuntu.com/ubuntu bionic-updates/universe amd64 chromium-chromedriver amd64 105.0.5195.102-0ubuntu0.18.04.1 [5,320 kB]\n",
            "Fetched 91.7 MB in 6s (16.2 MB/s)\n",
            "Selecting previously unselected package chromium-codecs-ffmpeg-extra.\n",
            "(Reading database ... 123942 files and directories currently installed.)\n",
            "Preparing to unpack .../chromium-codecs-ffmpeg-extra_105.0.5195.102-0ubuntu0.18.04.1_amd64.deb ...\n",
            "Unpacking chromium-codecs-ffmpeg-extra (105.0.5195.102-0ubuntu0.18.04.1) ...\n",
            "Selecting previously unselected package chromium-browser.\n",
            "Preparing to unpack .../chromium-browser_105.0.5195.102-0ubuntu0.18.04.1_amd64.deb ...\n",
            "Unpacking chromium-browser (105.0.5195.102-0ubuntu0.18.04.1) ...\n",
            "Selecting previously unselected package chromium-browser-l10n.\n",
            "Preparing to unpack .../chromium-browser-l10n_105.0.5195.102-0ubuntu0.18.04.1_all.deb ...\n",
            "Unpacking chromium-browser-l10n (105.0.5195.102-0ubuntu0.18.04.1) ...\n",
            "Selecting previously unselected package chromium-chromedriver.\n",
            "Preparing to unpack .../chromium-chromedriver_105.0.5195.102-0ubuntu0.18.04.1_amd64.deb ...\n",
            "Unpacking chromium-chromedriver (105.0.5195.102-0ubuntu0.18.04.1) ...\n",
            "Setting up chromium-codecs-ffmpeg-extra (105.0.5195.102-0ubuntu0.18.04.1) ...\n",
            "Setting up chromium-browser (105.0.5195.102-0ubuntu0.18.04.1) ...\n",
            "update-alternatives: using /usr/bin/chromium-browser to provide /usr/bin/x-www-browser (x-www-browser) in auto mode\n",
            "update-alternatives: using /usr/bin/chromium-browser to provide /usr/bin/gnome-www-browser (gnome-www-browser) in auto mode\n",
            "Setting up chromium-chromedriver (105.0.5195.102-0ubuntu0.18.04.1) ...\n",
            "Setting up chromium-browser-l10n (105.0.5195.102-0ubuntu0.18.04.1) ...\n",
            "Processing triggers for man-db (2.8.3-2ubuntu0.1) ...\n",
            "Processing triggers for hicolor-icon-theme (0.17-2) ...\n",
            "Processing triggers for mime-support (3.60ubuntu1) ...\n",
            "Processing triggers for libc-bin (2.27-3ubuntu1.6) ...\n",
            "cp: '/usr/lib/chromium-browser/chromedriver' and '/usr/bin/chromedriver' are the same file\n"
          ]
        }
      ]
    },
    {
      "cell_type": "code",
      "source": [
        "raw = pd.read_excel('gdrive/My Drive/Colab Notebooks/Cities_Brazil_IBGE.xlsx')\n",
        "cities_for_loop = raw['IBGECode']\n",
        "cities_for_loop"
      ],
      "metadata": {
        "colab": {
          "base_uri": "https://localhost:8080/"
        },
        "id": "Pbh4xPBa1rqC",
        "outputId": "eecdc56a-5a45-4690-f5f5-d9751a7acd98"
      },
      "execution_count": null,
      "outputs": [
        {
          "output_type": "execute_result",
          "data": {
            "text/plain": [
              "0       1100015.0\n",
              "1       1100023.0\n",
              "2       1100031.0\n",
              "3       1100049.0\n",
              "4       1100056.0\n",
              "          ...    \n",
              "5565    5222005.0\n",
              "5566    5222054.0\n",
              "5567    5222203.0\n",
              "5568    5222302.0\n",
              "5569    5300108.0\n",
              "Name: IBGECode, Length: 5570, dtype: float64"
            ]
          },
          "metadata": {},
          "execution_count": 3
        }
      ]
    },
    {
      "cell_type": "code",
      "source": [
        "start = 0\n",
        "out = [[]]"
      ],
      "metadata": {
        "id": "7Fm5kPXF2IFg"
      },
      "execution_count": null,
      "outputs": []
    },
    {
      "cell_type": "code",
      "source": [
        "wd = webdriver.Chrome('chromedriver',options=chrome_options)\n",
        "print(start)\n",
        "wd.get('https://cidades.ibge.gov.br/')\n",
        "first = True\n",
        "\n",
        "for code in cities_for_loop[start:]:\n",
        "  wd.find_element(By.XPATH, '/html/body/app/shell/header/busca/div/input').send_keys(int(code))\n",
        "  sleep(0.5)\n",
        "  wd.find_element(By.XPATH, '/html/body/app/shell/header/busca/div/div[2]').click()\n",
        "  sleep(4)\n",
        "\n",
        "  if first:\n",
        "    sleep(3)\n",
        "  else:\n",
        "    sec = wd.find_element(By.XPATH, '//*[@id=\"dados\"]/panorama-resumo/div/table/tr[1]/th[2]').click()\n",
        "    # sleep(0.1)\n",
        "  first = False\n",
        "  city = wd.find_element(By.XPATH, '//*[@id=\"local\"]/ul/li[3]/h1')\n",
        "  state = wd.find_element(By.XPATH, '//*[@id=\"local\"]/ul/li[2]/a')\n",
        "  gentile = wd.find_element(By.XPATH, '//*[@id=\"dados\"]/panorama-resumo/div/div[1]/div[2]/div/p')\n",
        "  anniversary = wd.find_element(By.XPATH, '//*[@id=\"dados\"]/panorama-resumo/div/div[1]/div[3]/div/div/p')\n",
        "  mayor = wd.find_element(By.XPATH, '//*[@id=\"dados\"]/panorama-resumo/div/div[1]/div[4]/div/p')\n",
        "\n",
        "  pop = wd.find_element(By.XPATH, '//*[@id=\"dados\"]/panorama-resumo/div/table/tr[4]/td[3]/valor-indicador/div/span[1]')\n",
        "  pop2021 = wd.find_element(By.XPATH, '//*[@id=\"dados\"]/panorama-resumo/div/table/tr[2]/td[3]/valor-indicador/div/span[1]')\n",
        "  density = wd.find_element(By.XPATH, '//*[@id=\"dados\"]/panorama-resumo/div/table/tr[6]/td[3]/valor-indicador/div/span[1]')\n",
        "  popu = [pop.text, pop2021.text, density.text]\n",
        "\n",
        "  sec = wd.find_element(By.XPATH, '//*[@id=\"dados\"]/panorama-resumo/div/table/tr[8]/th[2]').click()\n",
        "  # sleep(0.1)\n",
        "  medwage = wd.find_element(By.XPATH, '//*[@id=\"dados\"]/panorama-resumo/div/table/tr[9]/td[3]/valor-indicador/div/span[1]')\n",
        "  popemp = wd.find_element(By.XPATH, '//*[@id=\"dados\"]/panorama-resumo/div/table/tr[11]/td[3]/valor-indicador/div/span[1]')\n",
        "  popempper = wd.find_element(By.XPATH, '//*[@id=\"dados\"]/panorama-resumo/div/table/tr[13]/td[3]/valor-indicador/div/span[1]')\n",
        "  halfwage = wd.find_element(By.XPATH, '//*[@id=\"dados\"]/panorama-resumo/div/table/tr[15]/td[3]/valor-indicador/div/span[1]')\n",
        "  work = [medwage.text, popemp.text, popempper.text, halfwage.text]\n",
        "\n",
        "  sec = wd.find_element(By.XPATH, '//*[@id=\"dados\"]/panorama-resumo/div/table/tr[17]/th[2]').click()\n",
        "  # sleep(0.1)\n",
        "  schooling = wd.find_element(By.XPATH, '//*[@id=\"dados\"]/panorama-resumo/div/table/tr[18]/td[3]/valor-indicador/div/span[1]')\n",
        "  ideb1 = wd.find_element(By.XPATH, '//*[@id=\"dados\"]/panorama-resumo/div/table/tr[20]/td[3]/valor-indicador/div/span[1]')\n",
        "  ideb2 = wd.find_element(By.XPATH, '//*[@id=\"dados\"]/panorama-resumo/div/table/tr[22]/td[3]/valor-indicador/div/span[1]')\n",
        "  matfund = wd.find_element(By.XPATH, '//*[@id=\"dados\"]/panorama-resumo/div/table/tr[24]/td[3]/valor-indicador/div/span[1]')\n",
        "  mathigh = wd.find_element(By.XPATH, '//*[@id=\"dados\"]/panorama-resumo/div/table/tr[26]/td[3]/valor-indicador/div/span[1]')\n",
        "  proffund = wd.find_element(By.XPATH, '//*[@id=\"dados\"]/panorama-resumo/div/table/tr[28]/td[3]/valor-indicador/div/span[1]')\n",
        "  profhigh = wd.find_element(By.XPATH, '//*[@id=\"dados\"]/panorama-resumo/div/table/tr[30]/td[3]/valor-indicador/div/span[1]')\n",
        "  fundsch = wd.find_element(By.XPATH, '//*[@id=\"dados\"]/panorama-resumo/div/table/tr[32]/td[3]/valor-indicador/div/span[1]')\n",
        "  highsch = wd.find_element(By.XPATH, '//*[@id=\"dados\"]/panorama-resumo/div/table/tr[34]/td[3]/valor-indicador/div/span[1]')\n",
        "  school = [schooling.text, ideb1.text, ideb2.text, matfund.text, mathigh.text, proffund.text, profhigh.text, fundsch.text, highsch.text]\n",
        "\n",
        "  sec = wd.find_element(By.XPATH, '//*[@id=\"dados\"]/panorama-resumo/div/table/tr[36]/th[2]').click()\n",
        "  # sleep(0.1)\n",
        "  gdp = wd.find_element(By.XPATH, '//*[@id=\"dados\"]/panorama-resumo/div/table/tr[37]/td[3]/valor-indicador/div/span[1]')\n",
        "  ext = wd.find_element(By.XPATH, '//*[@id=\"dados\"]/panorama-resumo/div/table/tr[39]/td[3]/valor-indicador/div/span[1]')\n",
        "  hdi = wd.find_element(By.XPATH, '//*[@id=\"dados\"]/panorama-resumo/div/table/tr[41]/td[3]/valor-indicador/div/span[1]')\n",
        "  inc = wd.find_element(By.XPATH, '//*[@id=\"dados\"]/panorama-resumo/div/table/tr[43]/td[3]/valor-indicador/div/span[1]')\n",
        "  exp = wd.find_element(By.XPATH, '//*[@id=\"dados\"]/panorama-resumo/div/table/tr[45]/td[3]/valor-indicador/div/span[1]')\n",
        "  econ = [gdp.text, ext.text, hdi.text, inc.text, exp.text]\n",
        "\n",
        "  sec = wd.find_element(By.XPATH, '//*[@id=\"dados\"]/panorama-resumo/div/table/tr[47]/th[2]').click()\n",
        "  # sleep(0.1)\n",
        "  childmort = wd.find_element(By.XPATH, '//*[@id=\"dados\"]/panorama-resumo/div/table/tr[48]/td[3]/valor-indicador/div/span[1]')\n",
        "  diarrhea = wd.find_element(By.XPATH, '//*[@id=\"dados\"]/panorama-resumo/div/table/tr[50]/td[3]/valor-indicador/div/span[1]')\n",
        "  sus = wd.find_element(By.XPATH, '//*[@id=\"dados\"]/panorama-resumo/div/table/tr[52]/td[3]/valor-indicador/div/span[1]')\n",
        "  health = [childmort.text, diarrhea.text, sus.text]\n",
        "\n",
        "  sec = wd.find_element(By.XPATH, '//*[@id=\"dados\"]/panorama-resumo/div/table/tr[54]/th[2]').click()\n",
        "  # sleep(0.1)\n",
        "  area = wd.find_element(By.XPATH, '//*[@id=\"dados\"]/panorama-resumo/div/table/tr[55]/td[3]/valor-indicador/div/span[1]')\n",
        "  sanit = wd.find_element(By.XPATH, '//*[@id=\"dados\"]/panorama-resumo/div/table/tr[57]/td[3]/valor-indicador/div/span[1]')\n",
        "  arbor = wd.find_element(By.XPATH, '//*[@id=\"dados\"]/panorama-resumo/div/table/tr[59]/td[3]/valor-indicador/div/span[1]')\n",
        "  urban = wd.find_element(By.XPATH, '//*[@id=\"dados\"]/panorama-resumo/div/table/tr[61]/td[3]/valor-indicador/div/span[1]')\n",
        "  risk = wd.find_element(By.XPATH, '//*[@id=\"dados\"]/panorama-resumo/div/table/tr[63]/td[3]/valor-indicador/div/span')\n",
        "  bio = wd.find_element(By.XPATH, '//*[@id=\"dados\"]/panorama-resumo/div/table/tr[65]/td[3]/valor-indicador/div/span[1]')\n",
        "  coastal = wd.find_element(By.XPATH, '//*[@id=\"dados\"]/panorama-resumo/div/table/tr[67]/td[3]/valor-indicador/div/span[1]')\n",
        "  hier = wd.find_element(By.XPATH, '//*[@id=\"dados\"]/panorama-resumo/div/table/tr[69]/td[3]/valor-indicador/div/span[1]')\n",
        "  influency = wd.find_element(By.XPATH, '//*[@id=\"dados\"]/panorama-resumo/div/table/tr[71]/td[3]/valor-indicador/div/span[1]')\n",
        "  inter = wd.find_element(By.XPATH, '//*[@id=\"dados\"]/panorama-resumo/div/table/tr[73]/td[3]/valor-indicador/div/span[1]')\n",
        "  imedi = wd.find_element(By.XPATH, '//*[@id=\"dados\"]/panorama-resumo/div/table/tr[75]/td[3]/valor-indicador/div/span[1]')\n",
        "  meso = wd.find_element(By.XPATH, '//*[@id=\"dados\"]/panorama-resumo/div/table/tr[77]/td[3]/valor-indicador/div/span[1]')\n",
        "  micro = wd.find_element(By.XPATH, '//*[@id=\"dados\"]/panorama-resumo/div/table/tr[79]/td[3]/valor-indicador/div/span[1]')\n",
        "  territory = [area.text, sanit.text, arbor.text, urban.text, risk.text, bio.text, coastal.text, hier.text, influency.text, inter.text, imedi.text, meso.text, micro.text]\n",
        "\n",
        "  row = [int(code), city.text, state.text, gentile.text, anniversary.text, mayor.text]\n",
        "  row.extend(popu)\n",
        "  row.extend(work)\n",
        "  row.extend(school)\n",
        "  row.extend(econ)\n",
        "  row.extend(health)\n",
        "  row.extend(territory)\n",
        "\n",
        "  if start % 38 == 0:\n",
        "    print(start)\n",
        "  else:\n",
        "    print(start, end=\" \")\n",
        "  out.append(row)\n",
        "  start += 1\n",
        "\n",
        "df = pd.DataFrame(out)\n",
        "df.head()\n",
        "df.to_csv('gdrive/My Drive/Colab Notebooks/ibge_scrapping.csv', sep=\";\")"
      ],
      "metadata": {
        "colab": {
          "base_uri": "https://localhost:8080/"
        },
        "id": "8nDzxedo2i4Y",
        "outputId": "ab79ae72-f29c-4af5-dcb9-05dde75d3479"
      },
      "execution_count": null,
      "outputs": [
        {
          "output_type": "stream",
          "name": "stdout",
          "text": [
            "2994\n",
            "2994 2995 2996 2997 2998 2999 "
          ]
        }
      ]
    },
    {
      "cell_type": "code",
      "source": [],
      "metadata": {
        "id": "Er_6WyOW2uSA"
      },
      "execution_count": null,
      "outputs": []
    }
  ]
}